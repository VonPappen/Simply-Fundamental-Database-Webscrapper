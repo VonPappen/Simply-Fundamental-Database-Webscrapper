{
 "cells": [
  {
   "cell_type": "code",
   "execution_count": 5,
   "source": [
    "from models import Statements_table_log\n",
    "from sqlalchemy import create_engine\n",
    "from sqlalchemy.orm import sessionmaker\n",
    "from config import DATABASE_URI\n",
    "import datetime\n",
    "import pandas as pd"
   ],
   "outputs": [],
   "metadata": {}
  },
  {
   "cell_type": "code",
   "execution_count": 6,
   "source": [
    "USERNAME='postgres'\n",
    "HOST='database-webscrap.ccaaerr6cq44.eu-west-3.rds.amazonaws.com'\n",
    "DATABASE_NAME='webscrapping'\n",
    "PASSWORD='postgres5678'\n",
    "PORT=5432\n",
    "DATABASE_URI = f\"postgresql+psycopg2://{USERNAME}:{PASSWORD}@{HOST}:{PORT}/{DATABASE_NAME}\"\\\n",
    "\n",
    "session = sessionmaker(bind=create_engine(DATABASE_URI))\n",
    "s = session()"
   ],
   "outputs": [],
   "metadata": {}
  },
  {
   "cell_type": "code",
   "execution_count": 7,
   "source": [
    "def update_statements_log_entry(ticker, stmnt, t_format, period, status):\n",
    "\n",
    "\n",
    "    s.query(Statements_table_log.__table__).filter(\n",
    "        Statements_table_log.ticker == ticker,\n",
    "        Statements_table_log.statement == stmnt,\n",
    "        Statements_table_log.time_format == t_format,\n",
    "        Statements_table_log.period == period). \\\n",
    "        update({\"status\": f\"{status}\"})\n",
    "    s.commit()"
   ],
   "outputs": [],
   "metadata": {}
  },
  {
   "cell_type": "code",
   "execution_count": 8,
   "source": [
    "update_statements_log_entry('MKC', 'income-statement', 'annual', '2021-08', 'test')"
   ],
   "outputs": [],
   "metadata": {}
  },
  {
   "cell_type": "code",
   "execution_count": 10,
   "source": [
    "not False"
   ],
   "outputs": [
    {
     "output_type": "execute_result",
     "data": {
      "text/plain": [
       "True"
      ]
     },
     "metadata": {},
     "execution_count": 10
    }
   ],
   "metadata": {}
  },
  {
   "cell_type": "code",
   "execution_count": null,
   "source": [],
   "outputs": [],
   "metadata": {}
  }
 ],
 "metadata": {
  "orig_nbformat": 4,
  "language_info": {
   "name": "python",
   "version": "3.8.10",
   "mimetype": "text/x-python",
   "codemirror_mode": {
    "name": "ipython",
    "version": 3
   },
   "pygments_lexer": "ipython3",
   "nbconvert_exporter": "python",
   "file_extension": ".py"
  },
  "kernelspec": {
   "name": "python3",
   "display_name": "Python 3.8.10 64-bit ('alc_env': venv)"
  },
  "interpreter": {
   "hash": "574982ac9be226c8e6fcf399ec1f33eb4ce24e8bee0cac69c7b6e34a0e651915"
  }
 },
 "nbformat": 4,
 "nbformat_minor": 2
}