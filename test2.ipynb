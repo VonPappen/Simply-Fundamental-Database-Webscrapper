{
 "cells": [
  {
   "cell_type": "code",
   "execution_count": 7,
   "source": [
    "from models import Statements_table_log\n",
    "from sqlalchemy import create_engine\n",
    "from sqlalchemy.orm import sessionmaker\n",
    "from config import DATABASE_URI\n",
    "from scrapping_sources.Macrotrend import Macrotrend\n",
    "import datetime\n",
    "import pandas as pd"
   ],
   "outputs": [],
   "metadata": {}
  },
  {
   "cell_type": "code",
   "execution_count": 8,
   "source": [
    "USERNAME='postgres'\n",
    "HOST='database-webscrap.ccaaerr6cq44.eu-west-3.rds.amazonaws.com'\n",
    "DATABASE_NAME='webscrapping'\n",
    "PASSWORD='postgres5678'\n",
    "PORT=5432\n",
    "DATABASE_URI = f\"postgresql+psycopg2://{USERNAME}:{PASSWORD}@{HOST}:{PORT}/{DATABASE_NAME}\"\\\n",
    "\n",
    "session = sessionmaker(bind=create_engine(DATABASE_URI))\n",
    "s = session()\n",
    "M = Macrotrend()"
   ],
   "outputs": [],
   "metadata": {}
  },
  {
   "cell_type": "code",
   "execution_count": 7,
   "source": [
    "def update_statements_log_entry(ticker, stmnt, t_format, period, status):\n",
    "\n",
    "\n",
    "    s.query(Statements_table_log.__table__).filter(\n",
    "        Statements_table_log.ticker == ticker,\n",
    "        Statements_table_log.statement == stmnt,\n",
    "        Statements_table_log.time_format == t_format,\n",
    "        Statements_table_log.period == period). \\\n",
    "        update({\"status\": f\"{status}\"})\n",
    "    s.commit()"
   ],
   "outputs": [],
   "metadata": {}
  },
  {
   "cell_type": "code",
   "execution_count": 8,
   "source": [
    "update_statements_log_entry('MKC', 'income-statement', 'annual', '2021-08', 'test')"
   ],
   "outputs": [],
   "metadata": {}
  },
  {
   "cell_type": "code",
   "execution_count": 15,
   "source": [
    "def no_table_log(ticker, stmnt, t_format):\n",
    "\n",
    "    r = s.query(Statements_table_log.__table__).filter(\n",
    "        Statements_table_log.ticker == ticker,\n",
    "        Statements_table_log.statement == stmnt,\n",
    "        Statements_table_log.time_format == t_format,\n",
    "        Statements_table_log.period == M.latest_ending_period_available(ticker)\n",
    "    ).all()\n",
    "\n",
    "    return len(r) == 0"
   ],
   "outputs": [],
   "metadata": {}
  },
  {
   "cell_type": "code",
   "execution_count": 16,
   "source": [
    "no_table_log(\"TAYD\", 'income-statement', 'annual')"
   ],
   "outputs": [
    {
     "output_type": "stream",
     "name": "stdout",
     "text": [
      "TAYD <Response [200]>\n"
     ]
    },
    {
     "output_type": "execute_result",
     "data": {
      "text/plain": [
       "False"
      ]
     },
     "metadata": {},
     "execution_count": 16
    }
   ],
   "metadata": {}
  },
  {
   "cell_type": "code",
   "execution_count": 17,
   "source": [
    "s.close_all()"
   ],
   "outputs": [
    {
     "output_type": "stream",
     "name": "stderr",
     "text": [
      "/tmp/ipykernel_7163/1419930820.py:1: SADeprecationWarning: The Session.close_all() method is deprecated and will be removed in a future release.  Please refer to session.close_all_sessions(). (deprecated since: 1.3)\n",
      "  s.close_all()\n"
     ]
    }
   ],
   "metadata": {}
  },
  {
   "cell_type": "code",
   "execution_count": null,
   "source": [],
   "outputs": [],
   "metadata": {}
  }
 ],
 "metadata": {
  "orig_nbformat": 4,
  "language_info": {
   "name": "python",
   "version": "3.8.10",
   "mimetype": "text/x-python",
   "codemirror_mode": {
    "name": "ipython",
    "version": 3
   },
   "pygments_lexer": "ipython3",
   "nbconvert_exporter": "python",
   "file_extension": ".py"
  },
  "kernelspec": {
   "name": "python3",
   "display_name": "Python 3.8.10 64-bit ('alc_env': venv)"
  },
  "interpreter": {
   "hash": "574982ac9be226c8e6fcf399ec1f33eb4ce24e8bee0cac69c7b6e34a0e651915"
  }
 },
 "nbformat": 4,
 "nbformat_minor": 2
}